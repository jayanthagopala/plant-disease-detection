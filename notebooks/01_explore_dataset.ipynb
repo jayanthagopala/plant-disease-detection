{
  "cells": [
    {
      "cell_type": "markdown",
      "metadata": {},
      "source": [
        "# Plant Disease Dataset Exploration\n",
        "\n",
        "This notebook explores the plant disease dataset and provides insights into the data distribution and characteristics.\n"
      ]
    },
    {
      "cell_type": "code",
      "execution_count": null,
      "metadata": {},
      "outputs": [],
      "source": [
        "import sys\n",
        "from pathlib import Path\n",
        "import matplotlib.pyplot as plt\n",
        "import seaborn as sns\n",
        "import pandas as pd\n",
        "import numpy as np\n",
        "from PIL import Image\n",
        "\n",
        "# Add src to path\n",
        "sys.path.append(str(Path('..') / 'src'))\n",
        "\n",
        "from data.utils import analyze_dataset, create_sample_dataset\n",
        "from data.dataset import PlantDiseaseDataset\n"
      ]
    }
  ],
  "metadata": {
    "language_info": {
      "name": "python"
    }
  },
  "nbformat": 4,
  "nbformat_minor": 2
}
